{
 "cells": [
  {
   "cell_type": "markdown",
   "id": "a4e684c8",
   "metadata": {},
   "source": [
    "**PERKENALAN**"
   ]
  },
  {
   "cell_type": "markdown",
   "id": "724e9857",
   "metadata": {},
   "source": [
    "Nama: Sutisna\n",
    "\n",
    "Non Grade Challenge 5 : Linear Algebra 2"
   ]
  },
  {
   "cell_type": "code",
   "execution_count": 2,
   "id": "379f828a",
   "metadata": {},
   "outputs": [],
   "source": [
    "import numpy as np\n",
    "import sympy as sy"
   ]
  },
  {
   "cell_type": "markdown",
   "id": "8389bd5a",
   "metadata": {},
   "source": [
    "**SOAL 1**"
   ]
  },
  {
   "cell_type": "markdown",
   "id": "908bde8f",
   "metadata": {},
   "source": [
    "kita akan cek apakah w = (-4, 5, 4) merupakan kombinasi linier dari v1 = (2, 1, 0) dan v2 = (1, 3, 2)?.\n",
    "\n",
    "kita cek, apakah c1 * v1 + c2 * v2 = w"
   ]
  },
  {
   "cell_type": "code",
   "execution_count": 3,
   "id": "a3fb397e",
   "metadata": {},
   "outputs": [
    {
     "data": {
      "text/plain": [
       "(Matrix([\n",
       " [1, 0, 0],\n",
       " [0, 1, 0],\n",
       " [0, 0, 1]]),\n",
       " (0, 1, 2))"
      ]
     },
     "execution_count": 3,
     "metadata": {},
     "output_type": "execute_result"
    }
   ],
   "source": [
    "#dengan OBE\n",
    "A = sy.Matrix([[2, 1, -4], [1, 3, 5], [0, 2, 4]])\n",
    "A.rref()"
   ]
  },
  {
   "cell_type": "markdown",
   "id": "d508e216",
   "metadata": {},
   "source": [
    "tuple terakhir berarti c-nya ada 3, dari hasil OBE matrix A didapatkan sebagai berikut:\n",
    "\n",
    "    (1 0)   (c1)   (0)\n",
    "    (0 1) X (c2) = (0)\n",
    "    (0 0)          (1)\n",
    "    \n",
    " Sehingga menghasilkan, c1 = 0, c2 = 0, 0 = 1.\n",
    " \n",
    "Dari hasil diatas dapat disimpulkan bahwa tidak membangun di R dan tidak bebas linear, dapat disimpulkan bahwa w bukan kombinasi linear dari v1 dan v2"
   ]
  },
  {
   "cell_type": "markdown",
   "id": "a20bebcc",
   "metadata": {},
   "source": [
    "**Soal 2**"
   ]
  },
  {
   "cell_type": "markdown",
   "id": "a62ab036",
   "metadata": {},
   "source": [
    "Misalkan V dan W adalah ruang vektor. Jika **T : V --> W** adalah tranformasi linear dan u E V, maka buktikan bahwa T(-u) = -T(u)"
   ]
  },
  {
   "cell_type": "markdown",
   "id": "09be3628",
   "metadata": {},
   "source": [
    "**Bukti:**\n",
    "\n",
    "T : V --> dikatakan sebuah tranformation linear jika dan hanya jika:\n",
    "\n",
    "        T(u + v) = T(u) + T(v) dan T(cu) = cT(u)\n",
    "        \n",
    "untuk setiap u,v anggota V dan c bilangan real\n",
    "\n",
    "**Jawab:**\n",
    "\n",
    "misal: u, v anggota V dan c bilangan real\n",
    "\n",
    "Akan ditunjukan bahwa: T(u + v) = T(u) + T(v)\n",
    "\n",
    "    T(-(u + v)) = -T((u + v)) \n",
    "                = -(T(u) + T(v))\n",
    "                = -T(u) + -T(v)...terbukti\n",
    "\n",
    "Akan ditunjukan bahwa: T(cu) = cT(u)\n",
    "\n",
    "    T(-(cu)) = -T(cu)\n",
    "             =  -(cT(u))\n",
    "             = -cT(u)...terbukti\n",
    "             \n",
    "Sehingga terbukti bahwa jika T : V --> W adalah tranformasi linear dan u E V, maka T(-u) = -T(u)\n",
    "\n",
    "                          "
   ]
  }
 ],
 "metadata": {
  "kernelspec": {
   "display_name": "Python 3",
   "language": "python",
   "name": "python3"
  },
  "language_info": {
   "codemirror_mode": {
    "name": "ipython",
    "version": 3
   },
   "file_extension": ".py",
   "mimetype": "text/x-python",
   "name": "python",
   "nbconvert_exporter": "python",
   "pygments_lexer": "ipython3",
   "version": "3.8.8"
  }
 },
 "nbformat": 4,
 "nbformat_minor": 5
}
