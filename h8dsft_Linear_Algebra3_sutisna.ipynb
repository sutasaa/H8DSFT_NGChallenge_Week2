{
 "cells": [
  {
   "cell_type": "markdown",
   "id": "6cd4f83b",
   "metadata": {},
   "source": [
    "# **PERKENALAN**"
   ]
  },
  {
   "cell_type": "markdown",
   "id": "3e7226fa",
   "metadata": {},
   "source": [
    "Non Grade Challenge 6 : Algebra 3 - Eigenvalue & Eigenvector\n",
    "\n",
    "Nama : Sutisna"
   ]
  },
  {
   "cell_type": "markdown",
   "id": "24ae4da4",
   "metadata": {},
   "source": [
    "Apakah (1, 3) adalah eigenvector dari ([1, -1], [6, -4])? Jika ya, berapakah eigenvaluenya?"
   ]
  },
  {
   "cell_type": "markdown",
   "id": "1b8dc63f",
   "metadata": {},
   "source": [
    "Cara Manual:\n",
    "\n",
    "Matriks A = ([1, -1], [6, -4]), eigenvector v = [1, 3], kita akan cek apakah Av = kv (k adalah eigenvalue)\n",
    "\n",
    "    (1  -1) x (1) = (-2)\n",
    "    (6  -4)   (3)   (-6)\n",
    "                  = -2 (1)\n",
    "                       (3)\n",
    "                       \n",
    "Sehingga dapat disimpulkan bahwa v = (1, 3) adalah eigenvector dari matriks A dengan eigenvaluenya adalah -2"
   ]
  },
  {
   "cell_type": "markdown",
   "id": "c0407322",
   "metadata": {},
   "source": [
    "Selanjutnya akan dicek dengan menggunakan numpy"
   ]
  },
  {
   "cell_type": "code",
   "execution_count": 29,
   "id": "1b295033",
   "metadata": {},
   "outputs": [],
   "source": [
    "import numpy as np\n",
    "import matplotlib.pyplot as plt\n",
    "import seaborn as sns"
   ]
  },
  {
   "cell_type": "markdown",
   "id": "4a4d27e9",
   "metadata": {},
   "source": [
    "Membuat variabel matrix A"
   ]
  },
  {
   "cell_type": "code",
   "execution_count": 39,
   "id": "f5fd0c73",
   "metadata": {},
   "outputs": [
    {
     "data": {
      "text/plain": [
       "array([[ 1, -1],\n",
       "       [ 6, -4]])"
      ]
     },
     "execution_count": 39,
     "metadata": {},
     "output_type": "execute_result"
    }
   ],
   "source": [
    "A = np.array([[1, -1], [6, -4]])\n",
    "A"
   ]
  },
  {
   "cell_type": "markdown",
   "id": "aebb28ec",
   "metadata": {},
   "source": [
    "Membuat variabel eigenvector v"
   ]
  },
  {
   "cell_type": "code",
   "execution_count": 31,
   "id": "5626460d",
   "metadata": {},
   "outputs": [
    {
     "data": {
      "text/plain": [
       "array([[1],\n",
       "       [3]])"
      ]
     },
     "execution_count": 31,
     "metadata": {},
     "output_type": "execute_result"
    }
   ],
   "source": [
    "v = np.array([[1], [3]])\n",
    "v"
   ]
  },
  {
   "cell_type": "markdown",
   "id": "d450b37a",
   "metadata": {},
   "source": [
    "Kita akan membuat grafik untuk melihat antara perkalian matriks A dan v dengan vector v"
   ]
  },
  {
   "cell_type": "code",
   "execution_count": 32,
   "id": "d665a477",
   "metadata": {},
   "outputs": [
    {
     "name": "stdout",
     "output_type": "stream",
     "text": [
      "Populating the interactive namespace from numpy and matplotlib\n"
     ]
    }
   ],
   "source": [
    "# Plot style\n",
    "sns.set()\n",
    "%pylab inline\n",
    "pylab.rcParams['figure.figsize'] = (4, 4)\n",
    "# Avoid inaccurate floating values (for inverse matrices in dot product for instance)\n",
    "# See https://stackoverflow.com/questions/24537791/numpy-matrix-inversion-rounding-errors\n",
    "np.set_printoptions(suppress=True)"
   ]
  },
  {
   "cell_type": "code",
   "execution_count": 33,
   "id": "e1874c38",
   "metadata": {},
   "outputs": [],
   "source": [
    "def plotVectors(vecs, cols, alpha=1):\n",
    "    \"\"\"\n",
    "    Plot set of vectors.\n",
    "\n",
    "    Parameters\n",
    "    ----------\n",
    "    vecs : array-like\n",
    "        Coordinates of the vectors to plot. Each vectors is in an array. For\n",
    "        instance: [[1, 3], [2, 2]] can be used to plot 2 vectors.\n",
    "    cols : array-like\n",
    "        Colors of the vectors. For instance: ['red', 'blue'] will display the\n",
    "        first vector in red and the second in blue.\n",
    "    alpha : float\n",
    "        Opacity of vectors\n",
    "\n",
    "    Returns:\n",
    "\n",
    "    fig : instance of matplotlib.figure.Figure\n",
    "        The figure of the vectors\n",
    "    \"\"\"\n",
    "    plt.axvline(x=0, color='#A9A9A9', zorder=0)\n",
    "    plt.axhline(y=0, color='#A9A9A9', zorder=0)\n",
    "\n",
    "    for i in range(len(vecs)):\n",
    "        if (isinstance(alpha, list)):\n",
    "            alpha_i = alpha[i]\n",
    "        else:\n",
    "            alpha_i = alpha\n",
    "        x = np.concatenate([[0,0],vecs[i]])\n",
    "        plt.quiver([x[0]],\n",
    "                   [x[1]],\n",
    "                   [x[2]],\n",
    "                   [x[3]],\n",
    "                   angles='xy', scale_units='xy', scale=1, color=cols[i],\n",
    "                  alpha=alpha_i)"
   ]
  },
  {
   "cell_type": "code",
   "execution_count": 34,
   "id": "f9898db5",
   "metadata": {},
   "outputs": [
    {
     "data": {
      "text/plain": [
       "(-9.0, 7.0)"
      ]
     },
     "execution_count": 34,
     "metadata": {},
     "output_type": "execute_result"
    },
    {
     "data": {
      "image/png": "[encoded data removed]",
      "text/plain": [
       "<Figure size 288x288 with 1 Axes>"
      ]
     },
     "metadata": {
      "needs_background": "light"
     },
     "output_type": "display_data"
    }
   ],
   "source": [
    "Av = A.dot(v)\n",
    "\n",
    "orange = '#FF9A13'\n",
    "blue = '#1190FF'\n",
    "\n",
    "plotVectors([Av.flatten(), v.flatten()], cols = [blue, orange])\n",
    "plt.ylim(-9, 7)\n",
    "plt.xlim(-9, 7)"
   ]
  },
  {
   "cell_type": "markdown",
   "id": "dfff9b3b",
   "metadata": {},
   "source": [
    "kita akan mencari eigenvalue yang lainnya selain -2"
   ]
  },
  {
   "cell_type": "code",
   "execution_count": 35,
   "id": "4ff576e7",
   "metadata": {},
   "outputs": [
    {
     "data": {
      "text/plain": [
       "(array([-1., -2.]),\n",
       " array([[0.4472136 , 0.31622777],\n",
       "        [0.89442719, 0.9486833 ]]))"
      ]
     },
     "execution_count": 35,
     "metadata": {},
     "output_type": "execute_result"
    }
   ],
   "source": [
    "np.linalg.eig(A)"
   ]
  },
  {
   "cell_type": "markdown",
   "id": "b6161355",
   "metadata": {},
   "source": [
    "nilai eigen yang lainnya dari matrix A adalah -1 dengan eigenvector (0.4472136, 0.31622777)"
   ]
  },
  {
   "cell_type": "markdown",
   "id": "80111b81",
   "metadata": {},
   "source": [
    "kita akan melihat di dalam grafik untuk eigenvalue -2 dengan eigenvector (1, 3) dan (0.89442719, 0.9486833)"
   ]
  },
  {
   "cell_type": "code",
   "execution_count": 38,
   "id": "80f28bec",
   "metadata": {},
   "outputs": [
    {
     "data": {
      "text/plain": [
       "(-7.0, 5.0)"
      ]
     },
     "execution_count": 38,
     "metadata": {},
     "output_type": "execute_result"
    },
    {
     "data": {
      "image/png": "[encoded data removed]",
      "text/plain": [
       "<Figure size 288x288 with 1 Axes>"
      ]
     },
     "metadata": {
      "needs_background": "light"
     },
     "output_type": "display_data"
    }
   ],
   "source": [
    "v_np = [0.89442719, 0.9486833]\n",
    "\n",
    "plotVectors([Av.flatten(), v.flatten(), v_np], cols=[blue, orange, 'blue'])\n",
    "plt.ylim(-7, 5)\n",
    "plt.xlim(-7, 5)"
   ]
  }
 ],
 "metadata": {
  "kernelspec": {
   "display_name": "Python 3",
   "language": "python",
   "name": "python3"
  },
  "language_info": {
   "codemirror_mode": {
    "name": "ipython",
    "version": 3
   },
   "file_extension": ".py",
   "mimetype": "text/x-python",
   "name": "python",
   "nbconvert_exporter": "python",
   "pygments_lexer": "ipython3",
   "version": "3.8.8"
  }
 },
 "nbformat": 4,
 "nbformat_minor": 5
}
