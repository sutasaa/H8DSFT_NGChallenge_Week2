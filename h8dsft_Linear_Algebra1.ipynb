{
 "cells": [
  {
   "cell_type": "markdown",
   "id": "4f5d7095",
   "metadata": {},
   "source": [
    "# **PERKENALAN**"
   ]
  },
  {
   "cell_type": "markdown",
   "id": "f57be411",
   "metadata": {},
   "source": [
    "Nama : Sutisna\n",
    "\n",
    "Non Grade Challenge 4 : Aljabar Liniear 1"
   ]
  },
  {
   "cell_type": "markdown",
   "id": "30b852bb",
   "metadata": {},
   "source": [
    "import library yang digunakan"
   ]
  },
  {
   "cell_type": "code",
   "execution_count": 16,
   "id": "9d2c5a54",
   "metadata": {},
   "outputs": [],
   "source": [
    "import numpy as np\n",
    "%matplotlib inline\n",
    "import matplotlib.pyplot as plt"
   ]
  },
  {
   "cell_type": "markdown",
   "id": "f9554795",
   "metadata": {},
   "source": [
    "Membuat vector sebagai berikut:"
   ]
  },
  {
   "cell_type": "code",
   "execution_count": 17,
   "id": "f76d46ff",
   "metadata": {},
   "outputs": [
    {
     "data": {
      "text/plain": [
       "array([17, 22, 19])"
      ]
     },
     "execution_count": 17,
     "metadata": {},
     "output_type": "execute_result"
    }
   ],
   "source": [
    "vector = np.array([17, 22, 19])\n",
    "vector"
   ]
  },
  {
   "cell_type": "markdown",
   "id": "e2f41636",
   "metadata": {},
   "source": [
    "Membuat matriks sebagai berikut:"
   ]
  },
  {
   "cell_type": "code",
   "execution_count": 4,
   "id": "09e78b9b",
   "metadata": {},
   "outputs": [
    {
     "data": {
      "text/plain": [
       "array([[ 23,  50,  19],\n",
       "       [  7,  12, 109],\n",
       "       [ 57,  67,  98]])"
      ]
     },
     "execution_count": 4,
     "metadata": {},
     "output_type": "execute_result"
    }
   ],
   "source": [
    "matrix = np.array([[23, 50, 19], [7, 12, 109], [57, 67, 98]])\n",
    "matrix"
   ]
  },
  {
   "cell_type": "markdown",
   "id": "8826ca06",
   "metadata": {},
   "source": [
    "Membuat Tensor sebagai berikut:"
   ]
  },
  {
   "cell_type": "code",
   "execution_count": 5,
   "id": "65b05cd7",
   "metadata": {},
   "outputs": [
    {
     "data": {
      "text/plain": [
       "array([[[[23, 50],\n",
       "         [ 7, 12]],\n",
       "\n",
       "        [[57, 67],\n",
       "         [99, 43]]],\n",
       "\n",
       "\n",
       "       [[[75, 21],\n",
       "         [57, 12]],\n",
       "\n",
       "        [[87, 26],\n",
       "         [18, 84]]]])"
      ]
     },
     "execution_count": 5,
     "metadata": {},
     "output_type": "execute_result"
    }
   ],
   "source": [
    "tensor = np.array([[[[23, 50], [7, 12]], [[57, 67], [99, 43]]], \n",
    "                  [[[75, 21], [57, 12]], [[87, 26], [18, 84]]]])\n",
    "tensor"
   ]
  },
  {
   "cell_type": "markdown",
   "id": "1940d0aa",
   "metadata": {},
   "source": [
    "Berikut ini adalah perkalian matrik."
   ]
  },
  {
   "cell_type": "code",
   "execution_count": 8,
   "id": "39ab62ed",
   "metadata": {},
   "outputs": [
    {
     "data": {
      "text/plain": [
       "array([1852, 2454, 4305])"
      ]
     },
     "execution_count": 8,
     "metadata": {},
     "output_type": "execute_result"
    }
   ],
   "source": [
    "kali_matrix = matrix.dot(vector)\n",
    "kali_matrix"
   ]
  },
  {
   "cell_type": "markdown",
   "id": "6d746f75",
   "metadata": {},
   "source": [
    "Menampilkan transpose dari matriks"
   ]
  },
  {
   "cell_type": "code",
   "execution_count": 9,
   "id": "557f7d9e",
   "metadata": {},
   "outputs": [
    {
     "data": {
      "text/plain": [
       "array([[ 23,   7,  57],\n",
       "       [ 50,  12,  67],\n",
       "       [ 19, 109,  98]])"
      ]
     },
     "execution_count": 9,
     "metadata": {},
     "output_type": "execute_result"
    }
   ],
   "source": [
    "matrix.T"
   ]
  },
  {
   "cell_type": "markdown",
   "id": "069f0201",
   "metadata": {},
   "source": [
    "Menampilkan plot dari matriks kedalam bidang 2D"
   ]
  },
  {
   "cell_type": "code",
   "execution_count": 11,
   "id": "ae4b8357",
   "metadata": {},
   "outputs": [],
   "source": [
    "m1 = np.array([2, 5])\n",
    "m2 = np.array([3, 1])"
   ]
  },
  {
   "cell_type": "code",
   "execution_count": 13,
   "id": "b82f970c",
   "metadata": {},
   "outputs": [
    {
     "data": {
      "image/png": "[encoded data removed]",
      "text/plain": [
       "<Figure size 432x288 with 1 Axes>"
      ]
     },
     "metadata": {
      "needs_background": "light"
     },
     "output_type": "display_data"
    }
   ],
   "source": [
    "x_coords, y_coords = zip(m1, m2)\n",
    "plt.scatter(x_coords, y_coords, color=[\"r\",\"b\"])\n",
    "plt.axis([0, 9, 0, 6])\n",
    "plt.grid()\n",
    "plt.show()"
   ]
  },
  {
   "cell_type": "code",
   "execution_count": 14,
   "id": "4d02c254",
   "metadata": {},
   "outputs": [],
   "source": [
    "def plot_vector2d(vector2d, origin=[0, 0], **options):\n",
    "    return plt.arrow(origin[0], origin[1], vector2d[0], vector2d[1],\n",
    "              head_width=0.2, head_length=0.3, length_includes_head=True,\n",
    "              **options)"
   ]
  },
  {
   "cell_type": "code",
   "execution_count": 15,
   "id": "7e26772b",
   "metadata": {},
   "outputs": [
    {
     "data": {
      "image/png": "[encoded data removed]",
      "text/plain": [
       "<Figure size 432x288 with 1 Axes>"
      ]
     },
     "metadata": {
      "needs_background": "light"
     },
     "output_type": "display_data"
    }
   ],
   "source": [
    "plot_vector2d(m1, color=\"r\")\n",
    "plot_vector2d(m2, color=\"b\")\n",
    "plt.axis([0, 9, 0, 6])\n",
    "plt.grid()\n",
    "plt.show()"
   ]
  }
 ],
 "metadata": {
  "kernelspec": {
   "display_name": "Python 3",
   "language": "python",
   "name": "python3"
  },
  "language_info": {
   "codemirror_mode": {
    "name": "ipython",
    "version": 3
   },
   "file_extension": ".py",
   "mimetype": "text/x-python",
   "name": "python",
   "nbconvert_exporter": "python",
   "pygments_lexer": "ipython3",
   "version": "3.8.8"
  }
 },
 "nbformat": 4,
 "nbformat_minor": 5
}
